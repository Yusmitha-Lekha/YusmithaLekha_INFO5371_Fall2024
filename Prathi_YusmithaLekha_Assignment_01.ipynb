{
  "cells": [
    {
      "cell_type": "markdown",
      "metadata": {
        "id": "view-in-github",
        "colab_type": "text"
      },
      "source": [
        "<a href=\"https://colab.research.google.com/github/Yusmitha-Lekha/YusmithaLekha_INFO5731_Fall2024/blob/main/Prathi_YusmithaLekha_Assignment_01.ipynb\" target=\"_parent\"><img src=\"https://colab.research.google.com/assets/colab-badge.svg\" alt=\"Open In Colab\"/></a>"
      ]
    },
    {
      "cell_type": "markdown",
      "metadata": {
        "id": "Ryk8D1Q4Wsrp"
      },
      "source": [
        "# **INFO5731 Assignment One**"
      ]
    },
    {
      "cell_type": "markdown",
      "source": [
        "This assignment includes range of programming tasks and data analysis exercises, aiming to enhance your Python skills and proficiency in string manipulation, numerical computations, and data science. Follow the instructions carefully and design well-structured Python programs to address each question.\n",
        "\n",
        "Late Submission will have a penalty of 10% reduction for each day after the deadline."
      ],
      "metadata": {
        "id": "qcP6re2g5A5r"
      }
    },
    {
      "cell_type": "markdown",
      "metadata": {
        "id": "JkzR8cFAyGik"
      },
      "source": [
        "# Question 1 (10 points).\n",
        "\n",
        "The formula that describes the volume V of a hemisphere with radius r is the following:\n",
        "\n",
        "$ V=\\frac{2}{3}\\ast\\ \\pi\\ast\\ r^3 $\n",
        "\n",
        "Write a program to calculate the value of V when r is in the range of even numbers from 1-20. Output the result in the following format:\n",
        "\n",
        "\tr\tV\n",
        "\t2\t…\n",
        "\t4\t…\n",
        "\t6\t…\n",
        "\t.\n",
        "\t.\n",
        "\t.\n",
        "\t20\t…\n"
      ]
    },
    {
      "cell_type": "code",
      "execution_count": null,
      "metadata": {
        "id": "jDyTKYs-yGit",
        "colab": {
          "base_uri": "https://localhost:8080/"
        },
        "outputId": "2e176541-5031-4170-f5ee-3cfdf655a8be"
      },
      "outputs": [
        {
          "output_type": "stream",
          "name": "stdout",
          "text": [
            "r\tV\n",
            "2\t16.755\n",
            "4\t134.041\n",
            "6\t452.389\n",
            "8\t1072.330\n",
            "10\t2094.395\n",
            "12\t3619.115\n",
            "14\t5747.020\n",
            "16\t8578.642\n",
            "18\t12214.512\n",
            "20\t16755.161\n"
          ]
        }
      ],
      "source": [
        "# Your code here\n",
        "import math\n",
        "print(\"r\\tV\")\n",
        "def cal_vol(r):\n",
        "    return (2/3) * math.pi * r**3\n",
        "for r in range(2, 21, 2):\n",
        "    V = cal_vol(r)\n",
        "    print(f\"{r}\\t{V:.3f}\")\n"
      ]
    },
    {
      "cell_type": "markdown",
      "metadata": {
        "id": "90_NR8c5XGWc"
      },
      "source": [
        "# Question 2 (20 points)\n",
        "\n",
        "(a) Write a Python program to generate a sequence of 12 random numbers falling within the range of 50 to 150.\n",
        "\n",
        "(b) Arrange the generated numbers in ascending order. Display the sorted list.\n",
        "\n",
        "(c) Extend the program to arrange the numbers in descending order as well. Present the sorted list accordingly.\n",
        "\n",
        "(d) Compute and output the average of the entire group of generated numbers.\n",
        "\n",
        "(e) Enhance the program to calculate and display the average of the first 6 numbers from both the ascending and descending sorted lists."
      ]
    },
    {
      "cell_type": "code",
      "source": [
        "# Write code for each of the sub parts with proper comments.\n",
        "# (a) whith the help of the Random module, the numbers are selcted randomly. randint is the fuction which generates only interger values randomly. By specifying the range fuction we can get the sepcified numerical values with in the range of the numbers.\n",
        "import random\n",
        "\n",
        "Numbers = [random.randint(50, 150) for n in range(12)]\n",
        "print(Numbers)\n"
      ],
      "metadata": {
        "colab": {
          "base_uri": "https://localhost:8080/"
        },
        "id": "Or5FQ0jJhrKT",
        "outputId": "121621c4-6841-4367-fa0e-0292e38b0fbd"
      },
      "execution_count": null,
      "outputs": [
        {
          "output_type": "stream",
          "name": "stdout",
          "text": [
            "[112, 108, 103, 107, 73, 100, 73, 126, 115, 110, 128, 74]\n"
          ]
        }
      ]
    },
    {
      "cell_type": "code",
      "source": [
        "# (b) As continuing with above program just by using the sorted fuction we can arrange the numbers in ascending order\n",
        "Asc_values = sorted(Numbers)\n",
        "print(Asc_values)"
      ],
      "metadata": {
        "colab": {
          "base_uri": "https://localhost:8080/"
        },
        "id": "Z30vNx-iiHqi",
        "outputId": "2a862dc7-648d-4699-ba9d-e8672865614c"
      },
      "execution_count": null,
      "outputs": [
        {
          "output_type": "stream",
          "name": "stdout",
          "text": [
            "[73, 73, 74, 100, 103, 107, 108, 110, 112, 115, 126, 128]\n"
          ]
        }
      ]
    },
    {
      "cell_type": "code",
      "source": [
        "# (c) Sorting the numbers in descending order,keeping the above line of code same and using the revese fuction to arrange the numbers in the descending order.\n",
        "desc_values = sorted(Numbers,reverse=True)\n",
        "print(desc_values)\n"
      ],
      "metadata": {
        "colab": {
          "base_uri": "https://localhost:8080/"
        },
        "id": "60D5FrnUiJiE",
        "outputId": "0d2d9cea-07db-41b7-e889-2bd2e10cfe9b"
      },
      "execution_count": null,
      "outputs": [
        {
          "output_type": "stream",
          "name": "stdout",
          "text": [
            "[128, 126, 115, 112, 110, 108, 107, 103, 100, 74, 73, 73]\n"
          ]
        }
      ]
    },
    {
      "cell_type": "code",
      "source": [
        "# (d) Computing the average for those randomly generated values. By using sum() and len() funtions\n",
        "Avg = sum(Numbers) / len(Numbers)\n",
        "print(Avg)"
      ],
      "metadata": {
        "colab": {
          "base_uri": "https://localhost:8080/"
        },
        "id": "j_vdJsDZiL4D",
        "outputId": "5c239153-8aef-4ef7-ee50-2dd80c2eb93f"
      },
      "execution_count": null,
      "outputs": [
        {
          "output_type": "stream",
          "name": "stdout",
          "text": [
            "102.41666666666667\n"
          ]
        }
      ]
    },
    {
      "cell_type": "code",
      "source": [
        "# (e)for getting the average of the 1st 6 numbers from both ascending and descending oreder values. I am using sum() fuction for adding the numbers. Slicing is used for picking 1st 6 numbers.\n",
        "# To find average we use sum of all given observations to the total number of observations.\n",
        "Avg_Asc = sum(Asc_values[:6]) / 6\n",
        "Avg_desc = sum(desc_values[:6]) / 6\n",
        "print(Avg_Asc)\n",
        "print(Avg_desc)"
      ],
      "metadata": {
        "colab": {
          "base_uri": "https://localhost:8080/"
        },
        "id": "bcslnhsCiNta",
        "outputId": "c7e5300f-f147-41da-e07d-2b0319b741bc"
      },
      "execution_count": null,
      "outputs": [
        {
          "output_type": "stream",
          "name": "stdout",
          "text": [
            "88.33333333333333\n",
            "116.5\n"
          ]
        }
      ]
    },
    {
      "cell_type": "markdown",
      "metadata": {
        "id": "1F_PZdH9Sh49"
      },
      "source": [
        "# Question 3 (20 points).\n",
        "\n",
        "Create a Python program that encompasses various string manipulation task:\n",
        "\n",
        "(a) Prompt the user to input two sentences.\n",
        "\n",
        "(b) Transform each sentence into a list, where each element corresponds to a word in the sentence. For example, if the sentences are \"Hello, how are you doing today?\" and \"This is an example sentence for the program!\"\n",
        "\n",
        "The program should output:\n",
        "['Hello', ',', 'how', 'are', 'you', 'doing', 'today', '?', 'This', 'is', 'an', 'example', 'sentence', 'for', 'the', 'program', '!']\n",
        "\n",
        "(c) Compare the two sentences. Print out a list of words that occur in both sentences.\n",
        "\n",
        "(d) Remove any punctuation from the sentence and print the sanitized sentences. It should remove at least the following characters, but it can remove more: period(“.”), comma (“,”), semicolon (“;”), and colon (“:”).\n",
        "\n",
        "(e) Count the number of vowels in each of the sentences. Print out each vowel and the occurrences  in the each of the two sentences separately, such as:\n",
        "\n",
        "Sentence1: a:2, e:2, i:0, etc.\n",
        "Sentence2: a:1, e:2, i:2, etc.\n",
        "\n",
        "Design a well-structured Python program to execute these tasks efficiently."
      ]
    },
    {
      "cell_type": "code",
      "execution_count": null,
      "metadata": {
        "id": "Y0oOSlsOS0cq",
        "colab": {
          "base_uri": "https://localhost:8080/"
        },
        "outputId": "1731fda7-9836-498e-df96-2aadfea343a0"
      },
      "outputs": [
        {
          "name": "stdout",
          "output_type": "stream",
          "text": [
            "Hello, how are you doing today?\n",
            "This is an example sentence for the program!\n"
          ]
        }
      ],
      "source": [
        "# Your code here\n",
        "import re\n",
        "import string\n",
        "\n",
        "# (a)\n",
        "user_sent_1  = input( )\n",
        "user_sent_2 = input()\n"
      ]
    },
    {
      "cell_type": "code",
      "source": [
        "# (b)\n",
        "def list_of_sentence(sent):\n",
        "    return re.findall(r\"\\w+|[^\\w\\s]\", sent)\n",
        "\n",
        "list_1 = list_of_sentence(user_sent_1)\n",
        "list_2 = list_of_sentence(user_sent_2)\n",
        "\n",
        "list_comb = list_1 + list_2\n",
        "print(list_comb)\n"
      ],
      "metadata": {
        "colab": {
          "base_uri": "https://localhost:8080/",
          "height": 0
        },
        "id": "E5BOvB5azTIS",
        "outputId": "7223ce69-f0b9-4f4c-ac08-ff5f83da15ed"
      },
      "execution_count": 64,
      "outputs": [
        {
          "output_type": "stream",
          "name": "stdout",
          "text": [
            "['Hello', ',', 'how', 'are', 'you', 'doing', 'today', '?', 'This', 'is', 'an', 'example', 'sentence', 'for', 'the', 'program', '!']\n"
          ]
        }
      ]
    },
    {
      "cell_type": "code",
      "source": [
        "# (c)\n",
        "words = list(set(list_1).intersection(set(list_2)))\n",
        "print(words)\n"
      ],
      "metadata": {
        "colab": {
          "base_uri": "https://localhost:8080/",
          "height": 0
        },
        "id": "ChKQ7Lzp55jX",
        "outputId": "1281bae7-dff2-4ba3-f7e1-d40fe7f03f66"
      },
      "execution_count": 65,
      "outputs": [
        {
          "output_type": "stream",
          "name": "stdout",
          "text": [
            "[]\n"
          ]
        }
      ]
    },
    {
      "cell_type": "code",
      "source": [
        "# (d)\n",
        "change = str.maketrans('', '', string.punctuation)\n",
        "sanitized_1 = user_sent_1.translate(change)\n",
        "sanitized_2 = user_sent_2.translate(change)\n",
        "\n",
        "print(sanitized_1)\n",
        "print(sanitized_2)\n"
      ],
      "metadata": {
        "colab": {
          "base_uri": "https://localhost:8080/",
          "height": 0
        },
        "id": "EkwWfNXd55mq",
        "outputId": "14e04eef-f4de-4846-d80f-6878c6f627db"
      },
      "execution_count": 66,
      "outputs": [
        {
          "output_type": "stream",
          "name": "stdout",
          "text": [
            "Hello how are you doing today\n",
            "This is an example sentence for the program\n"
          ]
        }
      ]
    },
    {
      "cell_type": "code",
      "source": [
        "# (e) Count the number of vowels in each sentence\n",
        "Vowels = \"aeiouAEIOU\"\n",
        "\n",
        "def vowels_count(s):\n",
        "    return {v: s.lower().count(v) for v in Vowels}\n",
        "\n",
        "count1 = vowels_count(sanitized_1)\n",
        "count2 = vowels_count(sanitized_2)\n",
        "\n",
        "def format_count_of_vowel(vc):\n",
        "    return ', '.join([f\"{n}:{c}\" for n, c in vc.items() if c > 0])\n",
        "\n",
        "print(f\"first sentence Vowel Count: {format_count_of_vowel(count1)}\")\n",
        "print(f\"Second sentence Vowel Count: {format_count_of_vowel(count2)}\")"
      ],
      "metadata": {
        "colab": {
          "base_uri": "https://localhost:8080/",
          "height": 0
        },
        "id": "P6BVu0-WRZVe",
        "outputId": "5a70bc1b-a39e-479a-f7dd-bec52b34c198"
      },
      "execution_count": 67,
      "outputs": [
        {
          "output_type": "stream",
          "name": "stdout",
          "text": [
            "first sentence Vowel Count: a:2, e:2, i:1, o:5, u:1\n",
            "Second sentence Vowel Count: a:3, e:6, i:2, o:2\n"
          ]
        }
      ]
    },
    {
      "cell_type": "markdown",
      "source": [
        "# Question 4 (20 Points)"
      ],
      "metadata": {
        "id": "OP4-5qxAtInv"
      }
    },
    {
      "cell_type": "markdown",
      "source": [
        "Design and implement a simple command-line calculator program. The program should handle both integers and floating-point numbers.\n",
        "\n",
        "(a) Write program that takes a mathematical expression as input and evaluates it. The program should support addition, subtraction, multiplication, and division.\n",
        "\n",
        "(b) Extend the calculator to handle parentheses in mathematical expressions. Implement the necessary logic to evaluate expressions with nested parentheses.\n",
        "\n",
        "(c) Enhance your calculator to include additional mathematical operations such as exponentiation, square root, and modulus.\n",
        "\n",
        "(d) Implement error handling in the calculator program. Handle cases such as division by zero and invalid input expressions. Provide meaningful error messages.\n",
        "\n",
        "(e) Implement a command to exit the calculator."
      ],
      "metadata": {
        "id": "uzN4_hDptK9U"
      }
    },
    {
      "cell_type": "code",
      "source": [
        "import math\n",
        "# evaluating the expressions using the eval function\n",
        "def eval_expression(exp):\n",
        "    try:\n",
        "        outcome = eval(exp)\n",
        "        return outcome\n",
        "    except ZeroDivisionError:\n",
        "        return \"Error: Division by zero is not valid.\"\n",
        "    except (SyntaxError, NameError):\n",
        "        return \"Error: Invalid input. Enter Mathematical expression.\"\n",
        "    except Exception as ex:\n",
        "        return f\"Error: {str(ex)}\"\n",
        "\n",
        "#  Mathematical operations\n",
        "def display():\n",
        "    print(\"\\n Operations:\")\n",
        "    print(\"1. Addition (+)\")\n",
        "    print(\"2. Subtraction (-)\")\n",
        "    print(\"3. Multiplication (*)\")\n",
        "    print(\"4. Division (/)\")\n",
        "    print(\"5. Parentheses for nested operations (( ))\")\n",
        "    print(\"6. Exponentiation (**)\")\n",
        "    print(\"7. Modulus (%)\")\n",
        "    print(\"8. Square root: 'math.sqrt()')\")\n",
        "    print(\"Type to 'exit'\\n\")\n",
        "\n",
        "def cal():\n",
        "    print(\"Simple calculator!\")\n",
        "    display()\n",
        "\n",
        "    while True:\n",
        "        exp = input(\"\\n Enter Mathematical expression (or type 'exit'): \")\n",
        "\n",
        "        if exp.lower() == 'exit':\n",
        "            print(\"Exiting Calculator, Bye!\")\n",
        "            break\n",
        "\n",
        "        outcome = eval_expression(exp)\n",
        "\n",
        "        # Output the result\n",
        "        print(f\"Outcome: {outcome}\")\n",
        "\n",
        "# Start the calculator program\n",
        "if __name__ == \"__main__\":\n",
        "    cal()\n"
      ],
      "metadata": {
        "colab": {
          "base_uri": "https://localhost:8080/",
          "height": 0
        },
        "id": "8v7l35dI-iEb",
        "outputId": "3f9c56be-560f-4135-bee7-9ce2b629fd60"
      },
      "execution_count": 68,
      "outputs": [
        {
          "output_type": "stream",
          "name": "stdout",
          "text": [
            "Simple calculator!\n",
            "\n",
            " Operations:\n",
            "1. Addition (+)\n",
            "2. Subtraction (-)\n",
            "3. Multiplication (*)\n",
            "4. Division (/)\n",
            "5. Parentheses for nested operations (( ))\n",
            "6. Exponentiation (**)\n",
            "7. Modulus (%)\n",
            "8. Square root: 'math.sqrt()')\n",
            "Type to 'exit'\n",
            "\n",
            "\n",
            " Enter Mathematical expression (or type 'exit'): 2 +6\n",
            "Outcome: 8\n",
            "\n",
            " Enter Mathematical expression (or type 'exit'): 3 * 4\n",
            "Outcome: 12\n",
            "\n",
            " Enter Mathematical expression (or type 'exit'): 5 / 0\n",
            "Outcome: Error: Division by zero is not valid.\n",
            "\n",
            " Enter Mathematical expression (or type 'exit'): 3 ** 6\n",
            "Outcome: 729\n",
            "\n",
            " Enter Mathematical expression (or type 'exit'): 5 % 7\n",
            "Outcome: 5\n",
            "\n",
            " Enter Mathematical expression (or type 'exit'): exit\n",
            "Exiting Calculator, Bye!\n"
          ]
        }
      ]
    },
    {
      "cell_type": "markdown",
      "metadata": {
        "id": "z3tBE7E-Xn5X"
      },
      "source": [
        "# Question 5 (30 points).\n",
        "\n",
        "In the field of Data Science, data is often formatted as a comma-delimited (CSV) file, where each line in a file corresponds to a field's value. Refer to Chapter 9 (p. 106) for more information on comma-delimited files.\n",
        "\n",
        "To answer this question, you will need to download the file [Assignment1_denton_housing.csv](https://raw.githubusercontent.com/unt-iialab/info5731-spring2022/main/assignments/Assignment1_denton_housing.csv) included with this assignment. The file contains statistics about housing in the city of Denton from 2008 to 2014. Write a program to implement the following questions.\n",
        "\n",
        "(a) (5 pts) Calculate the difference in the number of Occupied Housing Units from year to year and print it. The difference must be calculated for the consecutive years such as 2008-2009, 2009-2010 etc. Finally, print the values in the ascending order.\n",
        "\n",
        "(b) (5 pts) For all the years, calculate the percentage of housing units which are vacant an occupied. Print the results in the following format:\n",
        "\n",
        "Year Vacant Housing Units Occupied Housing Units\n",
        "\n",
        "    2008  30%   70%                          \n",
        "\t2009 ----- -----\n",
        "\t2010 ----- -----\n",
        "    2011 ----- -----\n",
        "\t2012 ----- -----\n",
        "    2013 ----- -----\n",
        "\t2014 ----- -----\n",
        "  \n",
        "  \n",
        "\n",
        "(c) (10 pts) Calculate and print the valued and years in which the highest number of housing units were vacant and occupied. Print the results in the following format:  \n",
        "\n",
        "                              Year\tValue\n",
        "\tVacant Housing Units\t  -----   -----\n",
        "\tOccupied Housing Units\t-----   -----\n",
        "\n",
        "(d) (10 pts) Calculate the harmonic mean of the total housing units and print it out. You can find the information about harmonic mean here: https://ncalculators.com/statistics/harmonic-mean-calculator.htm"
      ]
    },
    {
      "cell_type": "code",
      "execution_count": 85,
      "metadata": {
        "id": "lqGYuHBhcsRH",
        "colab": {
          "base_uri": "https://localhost:8080/"
        },
        "outputId": "adc56fc6-48db-4634-eaf3-5658c8c8ea98"
      },
      "outputs": [
        {
          "output_type": "stream",
          "name": "stdout",
          "text": [
            "['2008', '2009', '2010', '2011', '2012', '2013', '2014']\n"
          ]
        }
      ],
      "source": [
        "import csv\n",
        "House_df = {}\n",
        "with open('Assignment1_denton_housing.csv', mode='r') as File:\n",
        "    data = csv.reader(File)\n",
        "    next(data)\n",
        "    for row in data:\n",
        "        Year, Title_field, Value = row[0], row[1], int(row[2])\n",
        "        if Year not in House_df:\n",
        "            House_df[Year] = {}\n",
        "        House_df[Year][Title_field] = Value\n",
        "Sorted_Years = sorted(House_df.keys())\n",
        "print(Sorted_Years)"
      ]
    },
    {
      "cell_type": "code",
      "source": [
        "#(a)\n",
        "Occupied_Diff = []\n",
        "for i in range(len(Sorted_Years) - 1):\n",
        "    Y1, Y2 = Sorted_Years[i], Sorted_Years[i + 1]\n",
        "    Diff = abs(House_df[Y2]['Occupied Housing Units'] - House_df[Y1]['Occupied Housing Units'])\n",
        "    Occupied_Diff.append((f\"{Y1}-{Y2}\", Diff))\n",
        "Occupied_Diff.sort(key=lambda x: x[1])\n",
        "print(\"Occupied Differences are:\\n\")\n",
        "for Year_Pair, diff in Occupied_Diff:\n",
        "    print(f\"{Year_Pair}: {diff}\")\n",
        "\n",
        "\n"
      ],
      "metadata": {
        "colab": {
          "base_uri": "https://localhost:8080/",
          "height": 0
        },
        "id": "igMHyi7LUj3O",
        "outputId": "8168f21f-5de8-4515-fc39-b9e86bbb9ae3"
      },
      "execution_count": 73,
      "outputs": [
        {
          "output_type": "stream",
          "name": "stdout",
          "text": [
            "Occupied Differences are:\n",
            "\n",
            "2010-2011: 303\n",
            "2008-2009: 795\n",
            "2011-2012: 1404\n",
            "2012-2013: 1565\n",
            "2013-2014: 2622\n",
            "2009-2010: 5091\n"
          ]
        }
      ]
    },
    {
      "cell_type": "code",
      "source": [
        "#(b)\n",
        "print(\"\\nYear   Vacant_Percentage   Occupied_Percentage\")\n",
        "for year in Sorted_Years:\n",
        "    Total = House_df[year]['Total Housing Units']\n",
        "    Vacant = House_df[year]['Vacant Housing Units']\n",
        "    Occupied = House_df[year]['Occupied Housing Units']\n",
        "    vacant_percentage = (Vacant / Total)*100\n",
        "    occupied_percentage = (Occupied / Total)*100\n",
        "\n",
        "\n",
        "    print(f\"{year}  {vacant_percentage:.2f}%    {occupied_percentage:.2f}%\")"
      ],
      "metadata": {
        "colab": {
          "base_uri": "https://localhost:8080/",
          "height": 0
        },
        "id": "Y79cQKuMUj6x",
        "outputId": "c283b23f-6363-4ba5-fe8e-e8754fbba741"
      },
      "execution_count": 79,
      "outputs": [
        {
          "output_type": "stream",
          "name": "stdout",
          "text": [
            "\n",
            "Year   Vacant_Percentage   Occupied_Percentage\n",
            "2008  10.88%    89.12%\n",
            "2009  9.07%    90.93%\n",
            "2010  8.14%    91.86%\n",
            "2011  9.38%    90.62%\n",
            "2012  6.68%    93.32%\n",
            "2013  8.80%    91.20%\n",
            "2014  5.73%    94.27%\n"
          ]
        }
      ]
    },
    {
      "cell_type": "code",
      "source": [
        "#(c)\n",
        "Maximum_Vacant_Units = -1\n",
        "Maximum_Vacant_Year = None\n",
        "Maximum_Occupied_Units = -1\n",
        "Maximum_Occupied_Year = None\n",
        "for year in House_df:\n",
        "    Vacant_Units = House_df[year].get('Vacant Housing Units', 0)\n",
        "    Occupied_Units = House_df[year].get('Occupied Housing Units', 0)\n",
        "    if Vacant_Units > Maximum_Vacant_Units:\n",
        "        Maximum_Vacant_Units = Vacant_Units\n",
        "        Maximum_Vacant_Year = year\n",
        "    if Occupied_Units > Maximum_Occupied_Units:\n",
        "        Maximum_Occupied_Units = Occupied_Units\n",
        "        Maximum_Occupied_Year = year\n",
        "print(\"{:<30} {:<10} {:<10}\".format('','Year', 'Value'))\n",
        "print(\"{:<30} {:<10} {:<10}\".format('Vacant Housing Units', Maximum_Vacant_Year, Maximum_Vacant_Units))\n",
        "print(\"{:<30} {:<10} {:<10}\".format('Occupied Housing Units', Maximum_Occupied_Year, Maximum_Occupied_Units))\n"
      ],
      "metadata": {
        "colab": {
          "base_uri": "https://localhost:8080/"
        },
        "id": "bNLfxg-ZXlCs",
        "outputId": "bce63aad-21dd-44ed-e320-58786d077aa6"
      },
      "execution_count": 82,
      "outputs": [
        {
          "output_type": "stream",
          "name": "stdout",
          "text": [
            "                               Year       Value     \n",
            "Vacant Housing Units           2008       4483      \n",
            "Occupied Housing Units         2014       46295     \n"
          ]
        }
      ]
    },
    {
      "cell_type": "code",
      "source": [
        "#(d)\n",
        "def H_Mean(Numbers):\n",
        "    N = len(Numbers)\n",
        "    if N == 0:\n",
        "        return None\n",
        "    recip_sum = sum(1/m for m in Numbers)\n",
        "    return N / recip_sum\n",
        "Housing_Units = [House_df[year].get('Total Housing Units', 0) for year in Sorted_Years]\n",
        "HM = H_Mean(Housing_Units)\n",
        "print(\"Total Housing Units of Harmonic Mean is:\", HM)\n"
      ],
      "metadata": {
        "colab": {
          "base_uri": "https://localhost:8080/",
          "height": 0
        },
        "id": "LsrwfXmrXlFl",
        "outputId": "7c5465c2-ccba-4834-9bda-7810804d346e"
      },
      "execution_count": 78,
      "outputs": [
        {
          "output_type": "stream",
          "name": "stdout",
          "text": [
            "Total Housing Units of Harmonic Mean is: 44398.28543969185\n"
          ]
        }
      ]
    },
    {
      "cell_type": "markdown",
      "source": [
        "# Mandatory Question\n",
        "\n",
        "Provide your thoughts on the assignment. What did you find challenging, and what aspects did you enjoy? Your opinion on the provided time to complete the assignment. Share any suggestions for improvement. Your feedback will be valuable for enhancing the learning experience."
      ],
      "metadata": {
        "id": "q8BFCvWp32cf"
      }
    },
    {
      "cell_type": "code",
      "source": [
        "# As I started doing my assignment from the lowest level the questions are easy to work, because by using few functions we can get the results directly. But later difficulty level increased. So I used to think how to solve the questions thats the way i can improve my analytic skills. By solving these question i am enjoying and it made me get deeper to the concepts."
      ],
      "metadata": {
        "id": "_e557s2w4BpK"
      },
      "execution_count": 80,
      "outputs": []
    }
  ],
  "metadata": {
    "colab": {
      "provenance": [],
      "include_colab_link": true
    },
    "kernelspec": {
      "display_name": "Python 3 (ipykernel)",
      "language": "python",
      "name": "python3"
    },
    "language_info": {
      "codemirror_mode": {
        "name": "ipython",
        "version": 3
      },
      "file_extension": ".py",
      "mimetype": "text/x-python",
      "name": "python",
      "nbconvert_exporter": "python",
      "pygments_lexer": "ipython3",
      "version": "3.9.12"
    }
  },
  "nbformat": 4,
  "nbformat_minor": 0
}