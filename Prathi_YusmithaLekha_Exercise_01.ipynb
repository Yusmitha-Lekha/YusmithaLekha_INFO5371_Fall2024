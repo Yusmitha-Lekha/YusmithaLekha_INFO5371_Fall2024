{
  "cells": [
    {
      "cell_type": "markdown",
      "metadata": {
        "id": "view-in-github",
        "colab_type": "text"
      },
      "source": [
        "<a href=\"https://colab.research.google.com/github/Yusmitha-Lekha/YusmithaLekha_INFO5731_Fall2024/blob/main/Prathi_YusmithaLekha_Exercise_01.ipynb\" target=\"_parent\"><img src=\"https://colab.research.google.com/assets/colab-badge.svg\" alt=\"Open In Colab\"/></a>"
      ]
    },
    {
      "cell_type": "markdown",
      "metadata": {
        "id": "DymRJbxDBCnf"
      },
      "source": [
        "# **INFO5731 Exercise 1**\n",
        "\n",
        "This exercise covers a variety of fundamental concepts in Python and is designed to help students improve their coding skills and problem-solving abilities.\n",
        "\n",
        "**Expectations**:\n",
        "*   Students are expected to complete the exercise during lecture period to meet the active participation criteria of the course.\n",
        "*   Use the provided .*ipynb* document to write your code & respond to the questions. Avoid generating a new file.\n",
        "*   Write complete answers and run all the cells before submission.\n",
        "*   Make sure the submission is \"clean\"; *i.e.*, no unnecessary code cells.\n",
        "*   Once finished, allow shared rights from top right corner (*see Canvas for details*).\n",
        "\n",
        "**Total points**: 40\n",
        "\n",
        "**Deadline**: This in-class exercise is due at the end of the day tomorrow, at 11:59 PM.\n",
        "\n",
        "**Late submissions cannot be considered, and no requests will be answered. Manage your time accordingly.**\n"
      ]
    },
    {
      "cell_type": "markdown",
      "source": [
        "## Question 1\n",
        "Write a Python program that  prompts the user to input the length and width of a rectangle, and then calculates and displays the area of the rectangle."
      ],
      "metadata": {
        "id": "FBKvD6O_TY6e"
      }
    },
    {
      "cell_type": "code",
      "source": [
        "# write your answer here\n",
        "# Getting length and width from the input value\n",
        "length = float(input(\"Enter the length of the rectangle: \"))\n",
        "width = float(input(\"Enter the width of the rectangle: \"))\n",
        "\n",
        "# Calculate the area\n",
        "area_rec = length * width\n",
        "\n",
        "# result of the area\n",
        "print(\"The area of the rectangle is:\\n\", area_rec)\n",
        "\n",
        "a=\"abracadabra\"\n",
        "a.upper()"
      ],
      "metadata": {
        "id": "cikVKDXdTbzE",
        "colab": {
          "base_uri": "https://localhost:8080/",
          "height": 108
        },
        "outputId": "03ad623b-776d-4884-ba9a-5dcc0d1ef136"
      },
      "execution_count": 41,
      "outputs": [
        {
          "output_type": "stream",
          "name": "stdout",
          "text": [
            "Enter the length of the rectangle: 7\n",
            "Enter the width of the rectangle: 8\n",
            "The area of the rectangle is:\n",
            " 56.0\n"
          ]
        },
        {
          "output_type": "execute_result",
          "data": {
            "text/plain": [
              "'ABRACADABRA'"
            ],
            "application/vnd.google.colaboratory.intrinsic+json": {
              "type": "string"
            }
          },
          "metadata": {},
          "execution_count": 41
        }
      ]
    },
    {
      "cell_type": "markdown",
      "source": [
        "## Question 2\n",
        "Create a Python program that interactively takes two numerical inputs from the user and swaps their values without utilizing an extra variable."
      ],
      "metadata": {
        "id": "E9RqrlwdTfvl"
      }
    },
    {
      "cell_type": "code",
      "source": [
        "# write your answer here\n",
        "# the first number from the input value\n",
        "x = float(input(\"Enter the first number: \"))\n",
        "\n",
        "# the second number from the input value\n",
        "y = float(input(\"Enter the second number: \"))\n",
        "\n",
        "# the values before swapping\n",
        "print(\"Before swapping:\")\n",
        "print(\"First number (x):\", x)\n",
        "print(\"Second number (y):\", y)\n",
        "\n",
        "# Swap the values using arithmetic operations\n",
        "x = x + y\n",
        "y = x - y\n",
        "x = x - y\n",
        "\n",
        "# the values after swapping\n",
        "print(\"After swapping:\")\n",
        "print(\"First number (x):\", x)\n",
        "print(\"Second number (y):\", y)\n"
      ],
      "metadata": {
        "id": "4XvRknixTh1g",
        "colab": {
          "base_uri": "https://localhost:8080/"
        },
        "outputId": "fc24a386-1e10-4d8a-c344-2f56f9053504"
      },
      "execution_count": 42,
      "outputs": [
        {
          "output_type": "stream",
          "name": "stdout",
          "text": [
            "Enter the first number: 6\n",
            "Enter the second number: 3\n",
            "Before swapping:\n",
            "First number (x): 6.0\n",
            "Second number (y): 3.0\n",
            "After swapping:\n",
            "First number (x): 3.0\n",
            "Second number (y): 6.0\n"
          ]
        }
      ]
    },
    {
      "cell_type": "markdown",
      "metadata": {
        "id": "03jb4GZsBkBS"
      },
      "source": [
        "## Question 3\n",
        "Write a Python script to determine and print the length of a user-input string."
      ]
    },
    {
      "cell_type": "code",
      "execution_count": 4,
      "metadata": {
        "id": "YaGLbSHHB8Ej",
        "colab": {
          "base_uri": "https://localhost:8080/"
        },
        "outputId": "5790317f-6e20-4f57-f472-b132fef1e630"
      },
      "outputs": [
        {
          "output_type": "stream",
          "name": "stdout",
          "text": [
            "Enter a string: yusmitha \n",
            "The length of the string is: 9\n"
          ]
        }
      ],
      "source": [
        "# write your answer here\n",
        "# the input to enter a string\n",
        "user_input = input(\"Enter a string: \")\n",
        "\n",
        "# Calculating the length of the string\n",
        "length_of_string = len(user_input)\n",
        "\n",
        "# Printing the length of the string\n",
        "print(\"The length of the string is:\", length_of_string)\n"
      ]
    },
    {
      "cell_type": "markdown",
      "metadata": {
        "id": "jJDe71iLB616"
      },
      "source": [
        "## Question 4\n",
        "Construct a Python program that counts and displays the occurrences of each character in a given string.\n",
        "\n",
        "Sample String: 'openai.ai',\n",
        "\n",
        "Expected Result: {'a': 2, 'i': 2, '.': 1, 'o': 1, 'p': 1, 'e': 1, 'n': 1}"
      ]
    },
    {
      "cell_type": "code",
      "execution_count": 6,
      "metadata": {
        "id": "MtKskTzbCLaU",
        "colab": {
          "base_uri": "https://localhost:8080/"
        },
        "outputId": "a6402a68-be46-49df-c1e0-f1e7f48d4dcb"
      },
      "outputs": [
        {
          "output_type": "stream",
          "name": "stdout",
          "text": [
            "{'a': 2, 'i': 2, '.': 1, 'o': 1, 'p': 1, 'e': 1, 'n': 1}\n"
          ]
        }
      ],
      "source": [
        "# write your answer here\n",
        "def count_characters(input_string):\n",
        "    # Created an empty dictionary to store character counts\n",
        "    char_count = {}\n",
        "\n",
        "    for char in input_string:\n",
        "        # increment its count\n",
        "        if char in char_count:\n",
        "            char_count[char] += 1\n",
        "        # If the character is not in the dictionary, adding it with a count of 1\n",
        "        else:\n",
        "            char_count[char] = 1\n",
        "\n",
        "    # Specifying the desired order of keys\n",
        "    desired_order = ['a', 'i', '.', 'o', 'p', 'e', 'n']\n",
        "\n",
        "    # Create a new dictionary with the keys sorted according to the desired order\n",
        "    sorted_char_count = {key: char_count[key] for key in desired_order if key in char_count}\n",
        "\n",
        "    return sorted_char_count\n",
        "\n",
        "# Sample string\n",
        "sample_string = 'openai.ai'\n",
        "\n",
        "# count of the character\n",
        "result = count_characters(sample_string)\n",
        "\n",
        "# the result\n",
        "print(result)"
      ]
    },
    {
      "cell_type": "markdown",
      "metadata": {
        "id": "55W9AMdXCSpV"
      },
      "source": [
        "## Question 5\n",
        "Design a Python code to calculate the sum of all elements in a user-provided list."
      ]
    },
    {
      "cell_type": "code",
      "execution_count": 9,
      "metadata": {
        "id": "I57NXsauCec2",
        "colab": {
          "base_uri": "https://localhost:8080/"
        },
        "outputId": "c07838a6-47f3-4fe6-b40a-b90b2213cf66"
      },
      "outputs": [
        {
          "output_type": "stream",
          "name": "stdout",
          "text": [
            "Enter a list of numbers separated by spaces: 1 2 5 4 6 8 3 9 10\n",
            "The sum of all elements in the list is: 48\n"
          ]
        }
      ],
      "source": [
        "# write your answer here\n",
        "def sum_of_elements(user_list):\n",
        "    # Initialize the sum to 0\n",
        "    total_sum = 0\n",
        "\n",
        "    # Iterate through each element in the list and add it to total_sum\n",
        "    for element in user_list:\n",
        "        total_sum += element\n",
        "\n",
        "    return total_sum\n",
        "\n",
        "# Get the list from the input\n",
        "user_input = input(\"Enter a list of numbers separated by spaces: \")\n",
        "\n",
        "# Convert the input string into a list of integers\n",
        "user_list = list(map(int, user_input.split()))\n",
        "\n",
        "# Calculate the sum of the elements\n",
        "result = sum_of_elements(user_list)\n",
        "\n",
        "print(\"The sum of all elements in the list is:\", result)"
      ]
    },
    {
      "cell_type": "markdown",
      "metadata": {
        "id": "4ulBZ6yhCi9F"
      },
      "source": [
        "## Question 6\n",
        "Write a Python program that modifies a given string by replacing all occurrences of its first character with '$', excluding the first character itself.\n",
        "\n",
        "\n",
        "Sample String : 'restart‘\n",
        "Expected Result : 'resta\\$t'"
      ]
    },
    {
      "cell_type": "code",
      "execution_count": 10,
      "metadata": {
        "id": "Fj0XhwbBCw2o",
        "colab": {
          "base_uri": "https://localhost:8080/"
        },
        "outputId": "0a7479b0-f252-40f3-e695-19361c790f6a"
      },
      "outputs": [
        {
          "output_type": "stream",
          "name": "stdout",
          "text": [
            "Modified String: resta$t\n"
          ]
        }
      ],
      "source": [
        "# write your answer here\n",
        "# the input string\n",
        "input_string = 'restart'\n",
        "\n",
        "# Get the first character of the string\n",
        "first_char = input_string[0]\n",
        "\n",
        "# Replace all occurrences of the first character in the string with '$', except the first one\n",
        "modified_string = first_char + input_string[1:].replace(first_char, '$')\n",
        "\n",
        "print(\"Modified String:\", modified_string)"
      ]
    },
    {
      "cell_type": "markdown",
      "source": [
        "## Question 7\n",
        "Write a Python program using a while loop to compute the factorial of a user-supplied number."
      ],
      "metadata": {
        "id": "qVXA3q7ET5JI"
      }
    },
    {
      "cell_type": "code",
      "source": [
        "# write your answer here\n",
        "# the input number\n",
        "number = int(input(\"Enter a number to compute its factorial: \"))\n",
        "\n",
        "# Initialize the factorial to 1 (as 0! is 1)\n",
        "factorial = 1\n",
        "\n",
        "# Initialize a counter variable\n",
        "i = number\n",
        "\n",
        "# the factorial using a while loop\n",
        "while i > 1:\n",
        "    factorial *= i\n",
        "    i -= 1\n",
        "\n",
        "print(f\"The factorial of {number} is: {factorial}\")"
      ],
      "metadata": {
        "id": "Lbt7R6UkT7BA",
        "colab": {
          "base_uri": "https://localhost:8080/"
        },
        "outputId": "fbf37580-3c77-419d-d657-9c00196e72bd"
      },
      "execution_count": 11,
      "outputs": [
        {
          "output_type": "stream",
          "name": "stdout",
          "text": [
            "Enter a number to compute its factorial: 6\n",
            "The factorial of 6 is: 720\n"
          ]
        }
      ]
    },
    {
      "cell_type": "markdown",
      "source": [
        "## Question 8\n",
        "Create a program that accepts a list of numbers as input and outputs a new list containing only the even numbers."
      ],
      "metadata": {
        "id": "6YfbzXMNT--R"
      }
    },
    {
      "cell_type": "code",
      "source": [
        "# write your answer here\n",
        "# the list from the input\n",
        "user_input = input(\"Enter a list of numbers separated by spaces: \")\n",
        "\n",
        "# Convert the input string into a list of integers\n",
        "user_list = list(map(int, user_input.split()))\n",
        "\n",
        "# Initialize an empty list to store even numbers\n",
        "even_numbers = []\n",
        "\n",
        "# Iterate through the list and add even numbers to the new list\n",
        "for number in user_list:\n",
        "    if number % 2 == 0:\n",
        "        even_numbers.append(number)\n",
        "\n",
        "# the result\n",
        "print(\"The list of even numbers is:\", even_numbers)\n"
      ],
      "metadata": {
        "id": "54q7wMQPUAKu",
        "colab": {
          "base_uri": "https://localhost:8080/"
        },
        "outputId": "facef19f-0b5e-42d7-92a5-999751170292"
      },
      "execution_count": 12,
      "outputs": [
        {
          "output_type": "stream",
          "name": "stdout",
          "text": [
            "Enter a list of numbers separated by spaces: 2 4 7 5 9 2 1 \n",
            "The list of even numbers is: [2, 4, 2]\n"
          ]
        }
      ]
    },
    {
      "cell_type": "markdown",
      "metadata": {
        "id": "_bIP7s1MCzue"
      },
      "source": [
        "## Question 9\n",
        "Design a Python function to check if a number is prime.\n"
      ]
    },
    {
      "cell_type": "code",
      "execution_count": 14,
      "metadata": {
        "id": "w79QilHXD3Mg",
        "colab": {
          "base_uri": "https://localhost:8080/"
        },
        "outputId": "bacb42db-e2bf-488c-9e70-9d170b5c1994"
      },
      "outputs": [
        {
          "output_type": "stream",
          "name": "stdout",
          "text": [
            "Enter a number to check if it is prime: 4\n",
            "4 is not a prime number.\n"
          ]
        }
      ],
      "source": [
        "# write your answer here\n",
        "def is_prime(number):\n",
        "    # Checking if the number is less than 2 (0 and 1 are not prime numbers)\n",
        "    if number < 2:\n",
        "        return False\n",
        "\n",
        "    # Checking for factors from 2 up to the number itself\n",
        "    for i in range(2, number):\n",
        "        if number % i == 0:\n",
        "            return False\n",
        "\n",
        "    # If no factors are found, the number is prime\n",
        "    return True\n",
        "\n",
        "number = int(input(\"Enter a number to check if it is prime: \"))\n",
        "if is_prime(number):\n",
        "    print(f\"{number} is a prime number.\")\n",
        "else:\n",
        "    print(f\"{number} is not a prime number.\")\n"
      ]
    },
    {
      "cell_type": "markdown",
      "metadata": {
        "id": "xCa2bK9aD4Q3"
      },
      "source": [
        "## Question 10\n",
        "Write a Python program to concatenate following dictionaries to create a new one.\n",
        "\n",
        "Sample Dictionary : dic1={1:10, 2:20}, dic2={3:30, 4:40}, dic3={5:50,6:60},\n",
        "\n",
        "Expected Result : {1: 10, 2: 20, 3: 30, 4: 40, 5: 50, 6: 60}\n"
      ]
    },
    {
      "cell_type": "code",
      "execution_count": 15,
      "metadata": {
        "id": "_z4aLqAbEET1",
        "colab": {
          "base_uri": "https://localhost:8080/"
        },
        "outputId": "728a3b75-bfbb-48d0-821e-737e161d7605"
      },
      "outputs": [
        {
          "output_type": "stream",
          "name": "stdout",
          "text": [
            "Concatenated Dictionary: {1: 10, 2: 20, 3: 30, 4: 40, 5: 50, 6: 60}\n"
          ]
        }
      ],
      "source": [
        "# write your answer here\n",
        "# Sample dictionaries\n",
        "dic1 = {1: 10, 2: 20}\n",
        "dic2 = {3: 30, 4: 40}\n",
        "dic3 = {5: 50, 6: 60}\n",
        "\n",
        "# Created a new dictionary and update it with the contents of dic1, dic2, and dic3\n",
        "result = {}\n",
        "result.update(dic1)\n",
        "result.update(dic2)\n",
        "result.update(dic3)\n",
        "\n",
        "# the result\n",
        "print(\"Concatenated Dictionary:\", result)\n"
      ]
    },
    {
      "cell_type": "markdown",
      "source": [
        "## Question 11\n",
        "Design a Python function that takes a tuple of integers as input and returns the largest and smallest elements."
      ],
      "metadata": {
        "id": "bkyZ2xSZUOst"
      }
    },
    {
      "cell_type": "code",
      "source": [
        "# write your answer here\n",
        "def find_largest_and_smallest(numbers):\n",
        "    # Checking if the tuple is empty\n",
        "    if not numbers:\n",
        "        return None, None\n",
        "\n",
        "    # Finding the largest and smallest elements\n",
        "    largest = max(numbers)\n",
        "    smallest = min(numbers)\n",
        "\n",
        "    return largest, smallest\n",
        "\n",
        "input_tuple = (34, 78, 12, 90, 56, 23)\n",
        "\n",
        "# Geting the largest and smallest elements\n",
        "largest, smallest = find_largest_and_smallest(input_tuple)\n",
        "\n",
        "# the result\n",
        "print(f\"Largest element: {largest}\")\n",
        "print(f\"Smallest element: {smallest}\")\n"
      ],
      "metadata": {
        "id": "3FdLRBKOUQEd",
        "colab": {
          "base_uri": "https://localhost:8080/"
        },
        "outputId": "960fe39b-f874-4490-c7ed-b841a90407ba"
      },
      "execution_count": 16,
      "outputs": [
        {
          "output_type": "stream",
          "name": "stdout",
          "text": [
            "Largest element: 90\n",
            "Smallest element: 12\n"
          ]
        }
      ]
    },
    {
      "cell_type": "markdown",
      "source": [
        "## Question 12\n",
        "Write a Python program that counts the frequency of each character in a given string and stores it in a dictionary."
      ],
      "metadata": {
        "id": "O0TVi3gKUTpp"
      }
    },
    {
      "cell_type": "code",
      "source": [
        "# write your answer here\n",
        "def count_character_frequency(input_string):\n",
        "    # Created an empty dictionary to store character frequencies\n",
        "    frequency_dict = {}\n",
        "\n",
        "    # Iterating through each character in the string\n",
        "    for char in input_string:\n",
        "        # If the character is already in the dictionary, increment its count\n",
        "        if char in frequency_dict:\n",
        "            frequency_dict[char] += 1\n",
        "        # If the character is not in the dictionary, add it with a count of 1\n",
        "        else:\n",
        "            frequency_dict[char] = 1\n",
        "\n",
        "    return frequency_dict\n",
        "\n",
        "sample_string = \"hello Bixby\"\n",
        "\n",
        "frequency = count_character_frequency(sample_string)\n",
        "\n",
        "print(\"Character Frequency:\", frequency)\n"
      ],
      "metadata": {
        "id": "lAtfSfZXUU-h",
        "colab": {
          "base_uri": "https://localhost:8080/"
        },
        "outputId": "1eac0a08-5942-4df0-8ead-b67c04144fe6"
      },
      "execution_count": 18,
      "outputs": [
        {
          "output_type": "stream",
          "name": "stdout",
          "text": [
            "Character Frequency: {'h': 1, 'e': 1, 'l': 2, 'o': 1, ' ': 1, 'B': 1, 'i': 1, 'x': 1, 'b': 1, 'y': 1}\n"
          ]
        }
      ]
    },
    {
      "cell_type": "markdown",
      "metadata": {
        "id": "0v48Vqa7FrQh"
      },
      "source": [
        "## Question 13\n",
        "Implement a Python script to identify duplicate elements in a provided array of integers. Return -1 if there are no duplicates."
      ]
    },
    {
      "cell_type": "code",
      "execution_count": 20,
      "metadata": {
        "id": "7WEmgq-DF2P1",
        "colab": {
          "base_uri": "https://localhost:8080/"
        },
        "outputId": "8d640b6c-8f05-4b14-8641-3a0adc99d57e"
      },
      "outputs": [
        {
          "output_type": "stream",
          "name": "stdout",
          "text": [
            "Duplicates found: [1, 2, 3, 5, 8]\n"
          ]
        }
      ],
      "source": [
        "# write your answer here\n",
        "def find_duplicates(array):\n",
        "    # Created a dictionary to count occurrences of each element\n",
        "    count = {}\n",
        "\n",
        "    # Iterated through each element in the array\n",
        "    for number in array:\n",
        "        # Increment the count for this number\n",
        "        if number in count:\n",
        "            count[number] += 1\n",
        "        else:\n",
        "            count[number] = 1\n",
        "\n",
        "    # Finding duplicates\n",
        "    duplicates = [key for key, value in count.items() if value > 1]\n",
        "\n",
        "    # Returning duplicates or -1 if there are none\n",
        "    return duplicates if duplicates else -1\n",
        "\n",
        "input_array = [1, 2, 3, 4, 5, 2, 6, 7, 8, 8, 5, 3, 1, 9, 0]\n",
        "\n",
        "# Finding duplicates\n",
        "result = find_duplicates(input_array)\n",
        "\n",
        "# the result\n",
        "if result == -1:\n",
        "    print(\"No duplicates found.\")\n",
        "else:\n",
        "    print(\"Duplicates found:\", result)\n"
      ]
    },
    {
      "cell_type": "markdown",
      "metadata": {
        "id": "vD5PYLMuGga_"
      },
      "source": [
        "## Question 14\n",
        "Write a Python script to find the common elements between two lists."
      ]
    },
    {
      "cell_type": "code",
      "execution_count": 23,
      "metadata": {
        "id": "t0D5kdJUGjjw",
        "colab": {
          "base_uri": "https://localhost:8080/"
        },
        "outputId": "d7ef8076-46d5-4085-e518-8904a5629f81"
      },
      "outputs": [
        {
          "output_type": "stream",
          "name": "stdout",
          "text": [
            "Common elements: [2, 4, 5]\n"
          ]
        }
      ],
      "source": [
        "# write your answer here\n",
        "def find_common_elements(list1, list2):\n",
        "    # Convert lists to sets and find the intersection\n",
        "    common_elements = list(set(list1) & set(list2))\n",
        "    return common_elements\n",
        "\n",
        "# Example usage\n",
        "list1 = [2, 4, 6, 4, 5]\n",
        "list2 = [4, 7, 2, 7, 5]\n",
        "\n",
        "# Find common elements\n",
        "common = find_common_elements(list1, list2)\n",
        "\n",
        "# Display the result\n",
        "print(\"Common elements:\", common)"
      ]
    },
    {
      "cell_type": "markdown",
      "metadata": {
        "id": "uHkd-y5VhVWC"
      },
      "source": [
        "## Question 15\n",
        "Write a Python program to randomly divide the students in this class into maximum of eight groups for term projects, each group should have at least 4 students but no more than 6 students (including 6).\n",
        "\n",
        "Here is the students list:\n",
        "\n",
        "student_list_spring_2024=[rb0846,\n",
        "ac1964,\n",
        "hc0612,\n",
        "md0912,\n",
        "ad1198,\n",
        "md0894,\n",
        "md0825,\n",
        "vg0598,\n",
        "vg0433,\n",
        "mh1068,\n",
        "yj0173,\n",
        "pk0553,\n",
        "tk0411,\n",
        "srk0204,\n",
        "sk2922,\n",
        "sk2936,\n",
        "mk1302,\n",
        "mk1317,\n",
        "tk0412,\n",
        "vk0656,\n",
        "sm2985,\n",
        "mm2372,\n",
        "un0045,\n",
        "an0892,\n",
        "sn0913,\n",
        "gp0252,\n",
        "ap1484,\n",
        "mr1765,\n",
        "sr1385,\n",
        "sr1335,\n",
        "hs0665,\n",
        "ms2060,\n",
        "gt0217,\n",
        "nt0385,\n",
        "tv0186,\n",
        "sv1394,\n",
        "sv1752,\n",
        "sv1555,\n",
        "sy0594\n",
        "]\n"
      ]
    },
    {
      "cell_type": "code",
      "execution_count": 25,
      "metadata": {
        "id": "3iGbmcOBhTwy",
        "colab": {
          "base_uri": "https://localhost:8080/"
        },
        "outputId": "ea7ef943-ea98-4db2-9df0-8cb96b94d2dd"
      },
      "outputs": [
        {
          "output_type": "stream",
          "name": "stdout",
          "text": [
            "Group 1: ['an0892', 'tv0186', 'mr1765', 'md0912', 'mh1068', 'sv1752']\n",
            "Group 2: ['tk0412', 'sk2936', 'vg0598', 'un0045', 'yj0173']\n",
            "Group 3: ['sr1385', 'mm2372', 'hs0665', 'nt0385', 'ad1198', 'srk0204']\n",
            "Group 4: ['md0825', 'hc0612', 'vk0656', 'sn0913']\n",
            "Group 5: ['md0894', 'vg0433', 'sr1335', 'sm2985', 'mk1317']\n",
            "Group 6: ['ms2060', 'pk0553', 'sk2922', 'gp0252']\n",
            "Group 7: ['mk1302', 'sv1394', 'ap1484', 'rb0846']\n",
            "Group 8: ['tk0411', 'sy0594', 'gt0217', 'ac1964', 'sv1555']\n"
          ]
        }
      ],
      "source": [
        "# write your answer here\n",
        "import random\n",
        "\n",
        "def divide_students_into_groups(student_list, min_group_size=4, max_group_size=6, max_groups=8):\n",
        "    # Shuffle the student list\n",
        "    random.shuffle(student_list)\n",
        "\n",
        "    # Initialize variables\n",
        "    groups = []\n",
        "    num_students = len(student_list)\n",
        "\n",
        "    while num_students > 0 and len(groups) < max_groups:\n",
        "        group_size = random.randint(min_group_size, max_group_size)\n",
        "        if num_students < group_size:\n",
        "            group_size = num_students\n",
        "\n",
        "        group = student_list[:group_size]\n",
        "        student_list = student_list[group_size:]\n",
        "        num_students -= group_size\n",
        "\n",
        "        groups.append(group)\n",
        "\n",
        "    if len(groups) > 1 and len(groups[-1]) < min_group_size:\n",
        "        last_group = groups.pop()\n",
        "        groups[-1].extend(last_group)\n",
        "\n",
        "    return groups\n",
        "\n",
        "student_list_spring_2024 = [\n",
        "    'rb0846', 'ac1964', 'hc0612', 'md0912', 'ad1198', 'md0894', 'md0825', 'vg0598',\n",
        "    'vg0433', 'mh1068', 'yj0173', 'pk0553', 'tk0411', 'srk0204', 'sk2922', 'sk2936',\n",
        "    'mk1302', 'mk1317', 'tk0412', 'vk0656', 'sm2985', 'mm2372', 'un0045', 'an0892',\n",
        "    'sn0913', 'gp0252', 'ap1484', 'mr1765', 'sr1385', 'sr1335', 'hs0665', 'ms2060',\n",
        "    'gt0217', 'nt0385', 'tv0186', 'sv1394', 'sv1752', 'sv1555', 'sy0594'\n",
        "]\n",
        "\n",
        "# Divide students into groups\n",
        "groups = divide_students_into_groups(student_list_spring_2024)\n",
        "\n",
        "# the result\n",
        "for i, group in enumerate(groups):\n",
        "    print(f\"Group {i + 1}: {group}\")"
      ]
    },
    {
      "cell_type": "markdown",
      "metadata": {
        "id": "fmZ9vX20Qs3d"
      },
      "source": [
        "## Question 16\n",
        "Create a program that takes a positive integer 'n' as input and prints the count of even numbers from 1 to 'n'. Optimize the loop using the continue statement."
      ]
    },
    {
      "cell_type": "code",
      "execution_count": 26,
      "metadata": {
        "id": "W8Jw6sWMQs3d",
        "colab": {
          "base_uri": "https://localhost:8080/"
        },
        "outputId": "bc6775bc-be1f-4851-abb3-00ded06beccf"
      },
      "outputs": [
        {
          "output_type": "stream",
          "name": "stdout",
          "text": [
            "Enter a positive integer: 5\n",
            "Count of even numbers from 1 to 5: 2\n"
          ]
        }
      ],
      "source": [
        "# write your answer here\n",
        "def count_even_numbers(n):\n",
        "    if n < 1:\n",
        "        print(\"Please enter a positive integer greater than 0.\")\n",
        "        return\n",
        "\n",
        "    count = sum(1 for i in range(1, n + 1) if i % 2 == 0)\n",
        "    print(f\"Count of even numbers from 1 to {n}: {count}\")\n",
        "\n",
        "n = int(input(\"Enter a positive integer: \"))\n",
        "if n <= 0:\n",
        "    print(\"The number must be positive.\")\n",
        "else:\n",
        "    count_even_numbers(n)"
      ]
    },
    {
      "cell_type": "markdown",
      "metadata": {
        "id": "hvq4APMhQs3d"
      },
      "source": [
        "## Question 17\n",
        "Develop a Python function called 'count_vowels' that takes a string as input and returns the count of vowels (both lowercase and uppercase) present in the string, ignoring spaces and non-alphabetic characters."
      ]
    },
    {
      "cell_type": "code",
      "execution_count": 27,
      "metadata": {
        "id": "ZnoxhSglQs3d",
        "colab": {
          "base_uri": "https://localhost:8080/"
        },
        "outputId": "0fdf0f83-9d5c-4175-a967-ea2d8647e41a"
      },
      "outputs": [
        {
          "output_type": "stream",
          "name": "stdout",
          "text": [
            "Enter a string: jashwanth\n",
            "Count of vowels in the string: 2\n"
          ]
        }
      ],
      "source": [
        "# write your answer here\n",
        "def count_vowels(s):\n",
        "    # Define the set of vowels\n",
        "    vowels = 'aeiouAEIOU'\n",
        "\n",
        "    count = 0\n",
        "\n",
        "    for char in s:\n",
        "        if char in vowels:\n",
        "            count += 1\n",
        "\n",
        "    return count\n",
        "\n",
        "input_string = input(\"Enter a string: \")\n",
        "vowel_count = count_vowels(input_string)\n",
        "print(f\"Count of vowels in the string: {vowel_count}\")"
      ]
    },
    {
      "cell_type": "markdown",
      "source": [
        "## Question 18\n",
        "Create a custom exception named ValueTooSmallError in Python. Write a program that takes user input for an age, and if the entered age is less than 18, raise the ValueTooSmallError with an appropriate error message."
      ],
      "metadata": {
        "id": "55FWoSJPVVM6"
      }
    },
    {
      "cell_type": "code",
      "source": [
        "# write your answer here\n",
        "class ValueTooSmallError(Exception):\n",
        "    def __init__(self, message=\"Age must be 18 or older\"):\n",
        "        self.message = message\n",
        "        super().__init__(self.message)\n",
        "\n",
        "def main():\n",
        "    age_input = input(\"Enter your age: \")\n",
        "\n",
        "    try:\n",
        "        # Converting input to integer\n",
        "        age = int(age_input)\n",
        "\n",
        "        # Checking age and raise exception\n",
        "        if age < 18:\n",
        "            raise ValueTooSmallError(\"Entered age is less than 18\")\n",
        "\n",
        "        # If no exception is raised\n",
        "        print(\"Age is valid.\")\n",
        "\n",
        "    except ValueError:\n",
        "        print(\"Invalid input. Please enter a valid number.\")\n",
        "    except ValueTooSmallError as e:\n",
        "        print(e)\n",
        "\n",
        "main()\n"
      ],
      "metadata": {
        "id": "hwtr1wZmVX5A",
        "colab": {
          "base_uri": "https://localhost:8080/"
        },
        "outputId": "612cd8b9-f2ae-4665-88e8-1b7c5cb83429"
      },
      "execution_count": 28,
      "outputs": [
        {
          "output_type": "stream",
          "name": "stdout",
          "text": [
            "Enter your age: 34\n",
            "Age is valid.\n"
          ]
        }
      ]
    },
    {
      "cell_type": "markdown",
      "source": [
        "## Question 19\n",
        "Develop a script that reverses a given string without using built-in reverse functions."
      ],
      "metadata": {
        "id": "Q9ecagcaVazW"
      }
    },
    {
      "cell_type": "code",
      "source": [
        "# write your answer here\n",
        "def reverse_string(s):\n",
        "    reversed_list = []\n",
        "    for char in s:\n",
        "        reversed_list.insert(0, char)  # Insert at the beginning\n",
        "    return ''.join(reversed_list)\n",
        "\n",
        "input_string = input(\"Enter a string to reverse: \")\n",
        "print(f\"Reversed string: {reverse_string(input_string)}\")"
      ],
      "metadata": {
        "id": "gycgckoAVZjR",
        "colab": {
          "base_uri": "https://localhost:8080/"
        },
        "outputId": "00a456a3-9d62-4cfc-86c4-0a270998cb50"
      },
      "execution_count": 30,
      "outputs": [
        {
          "output_type": "stream",
          "name": "stdout",
          "text": [
            "Enter a string to reverse: john\n",
            "Reversed string: nhoj\n"
          ]
        }
      ]
    },
    {
      "cell_type": "markdown",
      "source": [
        "## Question 20\n",
        "Implement a Python script to generate a random password of a specified length."
      ],
      "metadata": {
        "id": "ZFG6RibifMLu"
      }
    },
    {
      "cell_type": "code",
      "source": [
        "# write your answer here\n",
        "import random\n",
        "\n",
        "def generate_password(length):\n",
        "    if length < 1:\n",
        "        return \"Password length must be at least 1.\"\n",
        "\n",
        "    # set of characters\n",
        "    characters = \"abcdefghijklmnopqrstuvwxyzABCDEFGHIJKLMNOPQRSTUVWXYZ0123456789!@#$%^&*()\"\n",
        "\n",
        "    # A random password\n",
        "    password = ''.join(random.choice(characters) for _ in range(length))\n",
        "\n",
        "    return password\n",
        "\n",
        "length = int(input(\"Enter the desired length for the password: \"))\n",
        "\n",
        "if length <= 0:\n",
        "    print(\"Password length must be a positive integer.\")\n",
        "else:\n",
        "    print(f\"Generated password: {generate_password(length)}\")"
      ],
      "metadata": {
        "id": "BFVrkEi9fNiD",
        "colab": {
          "base_uri": "https://localhost:8080/"
        },
        "outputId": "5dcff0b5-2202-4776-95ed-6538f5ad9285"
      },
      "execution_count": 32,
      "outputs": [
        {
          "output_type": "stream",
          "name": "stdout",
          "text": [
            "Enter the desired length for the password: 8\n",
            "Generated password: v4j1iQZr\n"
          ]
        }
      ]
    },
    {
      "cell_type": "markdown",
      "source": [
        "# Try these questions"
      ],
      "metadata": {
        "id": "6SmvS7nSfbj8"
      }
    },
    {
      "cell_type": "markdown",
      "source": [
        "(21) Define a base class called 'Vehicle' with attributes make and model. Create a derived class Car that inherits from Vehicle and has an additional attribute 'num_doors'. Demonstrate an example of creating an instance of the 'Car' class and accessing its attributes."
      ],
      "metadata": {
        "id": "cboAr5pEWUf5"
      }
    },
    {
      "cell_type": "code",
      "source": [
        "# write your answer here\n",
        "# Base class\n",
        "class Vehicle:\n",
        "    def __init__(self, make, model):\n",
        "        self.make = make\n",
        "        self.model = model\n",
        "\n",
        "# Derived class\n",
        "class Car(Vehicle):\n",
        "    def __init__(self, make, model, num_doors):\n",
        "        super().__init__(make, model)  # Initialize base class attributes\n",
        "        self.num_doors = num_doors\n",
        "\n",
        "    def display_info(self):\n",
        "        return f\"Make: {self.make}, Model: {self.model}, Number of Doors: {self.num_doors}\"\n",
        "\n",
        "    def is_sedan(self):\n",
        "        return self.num_doors == 4\n",
        "\n",
        "car = Car(\"Ford\", \"Focus\", 4)\n",
        "print(car.display_info())\n",
        "print(f\"Is sedan: {car.is_sedan()}\")"
      ],
      "metadata": {
        "id": "phs9gciMWWAW",
        "colab": {
          "base_uri": "https://localhost:8080/"
        },
        "outputId": "8f8209d5-12f5-4e28-e2bb-0382b2825450"
      },
      "execution_count": 33,
      "outputs": [
        {
          "output_type": "stream",
          "name": "stdout",
          "text": [
            "Make: Ford, Model: Focus, Number of Doors: 4\n",
            "Is sedan: True\n"
          ]
        }
      ]
    },
    {
      "cell_type": "markdown",
      "source": [
        "(22) Create a class called 'Shape' with a method calculate_area(). Implement two derived classes 'Circle' and 'Rectangle' that inherit from Shape and override the calculate_area() method. Demonstrate polymorphism by creating instances of both derived classes and calling the calculate_area() method."
      ],
      "metadata": {
        "id": "J8HHefNtePwd"
      }
    },
    {
      "cell_type": "code",
      "source": [
        "# write your answer here\n",
        "import math\n",
        "\n",
        "# Base class\n",
        "class Shape:\n",
        "    def calculate_area(self):\n",
        "        raise NotImplementedError(\"Subclasses must implement this method\")\n",
        "\n",
        "# Derived class Circle\n",
        "class Circle(Shape):\n",
        "    def __init__(self, radius):\n",
        "        self.radius = radius\n",
        "\n",
        "    def calculate_area(self):\n",
        "        return math.pi * (self.radius ** 2)\n",
        "\n",
        "# Derived class Rectangle\n",
        "class Rectangle(Shape):\n",
        "    def __init__(self, width, height):\n",
        "        self.width = width\n",
        "        self.height = height\n",
        "\n",
        "    def calculate_area(self):\n",
        "        return self.width * self.height\n",
        "\n",
        "# Demonstration of polymorphism\n",
        "def main():\n",
        "    # Creating instances of Circle and Rectangle\n",
        "    circle = Circle(5)\n",
        "    rectangle = Rectangle(4, 6)\n",
        "\n",
        "    # List of shapes\n",
        "    shapes = [circle, rectangle]\n",
        "\n",
        "    for shape in shapes:\n",
        "        print(f\"Area: {shape.calculate_area()}\")\n",
        "\n",
        "main()"
      ],
      "metadata": {
        "id": "btnMmUZDeRhS",
        "colab": {
          "base_uri": "https://localhost:8080/"
        },
        "outputId": "cb404bba-5dad-4ac4-8122-b0d4d5bfbd40"
      },
      "execution_count": 34,
      "outputs": [
        {
          "output_type": "stream",
          "name": "stdout",
          "text": [
            "Area: 78.53981633974483\n",
            "Area: 24\n"
          ]
        }
      ]
    },
    {
      "cell_type": "markdown",
      "source": [
        "(23) Write a Python program that prompts the user to enter two numbers and perform a division operation. Handle exceptions for both zero division and invalid input (non-numeric input). Display appropriate error messages for each type of exception and ensure the program does not crash due to these errors."
      ],
      "metadata": {
        "id": "z0oqEAlTeMUS"
      }
    },
    {
      "cell_type": "code",
      "source": [
        "# write your answer here\n",
        "def get_number(prompt):\n",
        "    while True:\n",
        "        try:\n",
        "            return float(input(prompt))\n",
        "        except ValueError:\n",
        "            print(\"Error: Invalid input. Please enter numeric values.\")\n",
        "\n",
        "def perform_division(num1, num2):\n",
        "    try:\n",
        "        return num1 / num2\n",
        "    except ZeroDivisionError:\n",
        "        return \"Error: Division by zero is not allowed.\"\n",
        "\n",
        "def main():\n",
        "    num1 = get_number(\"Enter the first number: \")\n",
        "    num2 = get_number(\"Enter the second number: \")\n",
        "\n",
        "    result = perform_division(num1, num2)\n",
        "    print(f\"The result is: {result}\")\n",
        "\n",
        "main()"
      ],
      "metadata": {
        "id": "yjdc1zM1eMAs",
        "colab": {
          "base_uri": "https://localhost:8080/"
        },
        "outputId": "5bdfd343-8e47-41a6-93f1-f5c738c458a8"
      },
      "execution_count": 43,
      "outputs": [
        {
          "output_type": "stream",
          "name": "stdout",
          "text": [
            "Enter the first number: 6\n",
            "Enter the second number: 5\n",
            "The result is: 1.2\n"
          ]
        }
      ]
    },
    {
      "cell_type": "markdown",
      "source": [
        "# Mandatory Question"
      ],
      "metadata": {
        "id": "sZOhks1dXWEe"
      }
    },
    {
      "cell_type": "markdown",
      "source": [
        "**Important:**\n",
        "Reflecting on the first three lectures and the exercises you've completed, please provide feedback on your learning experience. Share your thoughts on whether the material covered was clear, the exercises were helpful, and if you feel more confident in applying Python programming concepts. Additionally, mention any specific areas where you would like more clarification or topics you would like to explore further in future lectures. Your feedback is valuable in shaping the course for an effective learning journey."
      ],
      "metadata": {
        "id": "eqmHVEwaWhbV"
      }
    },
    {
      "cell_type": "code",
      "source": [
        "'''\n",
        "Write your response here.\n",
        "\n",
        "Hi,\n",
        "Till Now I didnt face any issue and the concept of the excerises are clear. In future if i face any issue i will be mentioning with you.\n",
        "\n",
        "thank you.\n",
        "'''"
      ],
      "metadata": {
        "id": "akAVJn9YBTQT",
        "colab": {
          "base_uri": "https://localhost:8080/",
          "height": 54
        },
        "outputId": "b66bf375-5975-4c73-db3f-84dc683461fa"
      },
      "execution_count": 44,
      "outputs": [
        {
          "output_type": "execute_result",
          "data": {
            "text/plain": [
              "'\\nWrite your response here.\\n\\nHi,\\nTill Now I didnt face any issue and the concept of the excerise are clear. In future if i face any issue i will be mentioning with you that you. \\n'"
            ],
            "application/vnd.google.colaboratory.intrinsic+json": {
              "type": "string"
            }
          },
          "metadata": {},
          "execution_count": 44
        }
      ]
    },
    {
      "cell_type": "code",
      "source": [],
      "metadata": {
        "id": "_rnIUzDIaObS"
      },
      "execution_count": null,
      "outputs": []
    }
  ],
  "metadata": {
    "colab": {
      "provenance": [],
      "toc_visible": true,
      "include_colab_link": true
    },
    "kernelspec": {
      "display_name": "Python 3 (ipykernel)",
      "language": "python",
      "name": "python3"
    },
    "language_info": {
      "codemirror_mode": {
        "name": "ipython",
        "version": 3
      },
      "file_extension": ".py",
      "mimetype": "text/x-python",
      "name": "python",
      "nbconvert_exporter": "python",
      "pygments_lexer": "ipython3",
      "version": "3.9.12"
    }
  },
  "nbformat": 4,
  "nbformat_minor": 0
}